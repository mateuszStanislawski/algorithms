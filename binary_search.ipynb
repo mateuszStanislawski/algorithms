{
  "nbformat": 4,
  "nbformat_minor": 0,
  "metadata": {
    "colab": {
      "name": "binary_search.ipynb",
      "provenance": [],
      "authorship_tag": "ABX9TyPO7xyvgCo8/05xf16WyT6Q"
    },
    "kernelspec": {
      "name": "python3",
      "display_name": "Python 3"
    }
  },
  "cells": [
    {
      "cell_type": "code",
      "metadata": {
        "id": "SRuXdUmbAXrv",
        "colab_type": "code",
        "colab": {}
      },
      "source": [
        "def binary_search(list, item):\n",
        "  low = 0 \n",
        "  high = len(list) - 1\n",
        "\n",
        "  while low <= high:\n",
        "    mid = int((low + high) / 2)\n",
        "    guess = list[mid]\n",
        "    if guess == item:\n",
        "      return mid\n",
        "    if guess > item:\n",
        "      high = mid -1\n",
        "    else:\n",
        "      low = mid +1\n",
        "  return None\n",
        "\n",
        "my_list = [1,2,3,4,5,6,7,8,9,10,12,15,18]"
      ],
      "execution_count": 0,
      "outputs": []
    },
    {
      "cell_type": "code",
      "metadata": {
        "id": "mQJ5ZwRCB7Eq",
        "colab_type": "code",
        "colab": {
          "base_uri": "https://localhost:8080/",
          "height": 34
        },
        "outputId": "e8b9cb91-e6be-4f8a-deb9-0af7a9ecf893"
      },
      "source": [
        "print(binary_search(my_list,7))"
      ],
      "execution_count": 4,
      "outputs": [
        {
          "output_type": "stream",
          "text": [
            "6\n"
          ],
          "name": "stdout"
        }
      ]
    },
    {
      "cell_type": "code",
      "metadata": {
        "id": "n7ixtBpyCCe8",
        "colab_type": "code",
        "colab": {}
      },
      "source": [
        ""
      ],
      "execution_count": 0,
      "outputs": []
    }
  ]
}