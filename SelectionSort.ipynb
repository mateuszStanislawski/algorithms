{
  "nbformat": 4,
  "nbformat_minor": 0,
  "metadata": {
    "colab": {
      "name": "SelectionSort.ipynb",
      "provenance": [],
      "authorship_tag": "ABX9TyPg2POI+OO/5cf+6c8Xt+X5"
    },
    "kernelspec": {
      "name": "python3",
      "display_name": "Python 3"
    }
  },
  "cells": [
    {
      "cell_type": "code",
      "metadata": {
        "id": "MgRCRD-oQeO9",
        "colab_type": "code",
        "colab": {}
      },
      "source": [
        "def findSmallest(arr):\n",
        "  smallest = arr[0]\n",
        "  smallest_index = 0\n",
        "  for i in range(1, len(arr)):\n",
        "    if arr[i] < smallest:\n",
        "      smallest = arr[i]\n",
        "      smallest_index = i\n",
        "  return smallest_index"
      ],
      "execution_count": 0,
      "outputs": []
    },
    {
      "cell_type": "code",
      "metadata": {
        "id": "W_RDPMscQ_2q",
        "colab_type": "code",
        "colab": {}
      },
      "source": [
        "def selectionSort(arr):\n",
        "  newArr = []\n",
        "  for i in range(len(arr)):\n",
        "    smallest = findSmallest(arr)\n",
        "    newArr.append(arr.pop(smallest))\n",
        "  return newArr\n",
        "  "
      ],
      "execution_count": 0,
      "outputs": []
    },
    {
      "cell_type": "code",
      "metadata": {
        "id": "YcmzKEZwRXoz",
        "colab_type": "code",
        "colab": {
          "base_uri": "https://localhost:8080/",
          "height": 34
        },
        "outputId": "dce4bf80-b080-47a4-c8be-b79f653c7dc0"
      },
      "source": [
        "selectionSort([5,3,6,2,10])"
      ],
      "execution_count": 3,
      "outputs": [
        {
          "output_type": "execute_result",
          "data": {
            "text/plain": [
              "[2, 3, 5, 6, 10]"
            ]
          },
          "metadata": {
            "tags": []
          },
          "execution_count": 3
        }
      ]
    },
    {
      "cell_type": "code",
      "metadata": {
        "id": "w2TeFi0ARchG",
        "colab_type": "code",
        "colab": {}
      },
      "source": [
        ""
      ],
      "execution_count": 0,
      "outputs": []
    }
  ]
}